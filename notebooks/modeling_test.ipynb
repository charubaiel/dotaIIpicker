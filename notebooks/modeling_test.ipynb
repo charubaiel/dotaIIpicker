{
 "cells": [
  {
   "cell_type": "code",
   "execution_count": 1,
   "metadata": {},
   "outputs": [],
   "source": [
    "import pandas as pd \n",
    "import duckdb\n",
    "import scipy.stats as sps\n",
    "import matplotlib.pyplot as plt\n",
    "from dataclasses import dataclass\n",
    "import numpy as np\n",
    "import requests as r"
   ]
  },
  {
   "cell_type": "code",
   "execution_count": 2,
   "metadata": {},
   "outputs": [],
   "source": [
    "plt.style.use('ggplot')"
   ]
  },
  {
   "cell_type": "code",
   "execution_count": 3,
   "metadata": {},
   "outputs": [],
   "source": [
    "map_hero_names = pd.read_json('../ETL/dbs/hero_names.json',typ='series').to_dict()\n",
    "with duckdb.connect('../ETL/dbs/dotaIIbase.duckdb') as c:\n",
    "    tmp_matric = c.execute('select * from INTEL.matrix_table').df()\n",
    "hero_matrix = tmp_matric.apply(lambda x: x.map(map_hero_names) if x.name.endswith('team') else x)\\\n",
    "                        .pivot_table('value','win_team',['stats_type','lose_team'],aggfunc='sum')"
   ]
  },
  {
   "cell_type": "code",
   "execution_count": 19,
   "metadata": {},
   "outputs": [
    {
     "data": {
      "text/plain": [
       "count    57804.000000\n",
       "mean        95.005536\n",
       "std        161.917572\n",
       "min          1.000000\n",
       "25%         13.000000\n",
       "50%         41.000000\n",
       "75%        106.000000\n",
       "max       2680.000000\n",
       "Name: value, dtype: float64"
      ]
     },
     "execution_count": 19,
     "metadata": {},
     "output_type": "execute_result"
    }
   ],
   "source": [
    "tmp_matric['value'].where(lambda x: x!=0).dropna().describe()"
   ]
  },
  {
   "cell_type": "code",
   "execution_count": 4,
   "metadata": {},
   "outputs": [],
   "source": [
    "@dataclass\n",
    "class TeamPick:\n",
    "    '''\n",
    "    Класс характеризующий набор героев команды  \\n\n",
    "    Подсчитывает взвешенную баесовский loglike победы\n",
    "    '''\n",
    "    hero_matrix:pd.DataFrame\n",
    "    def __post_init__(self):\n",
    "        if not isinstance(self.hero_matrix,pd.DataFrame):\n",
    "            raise ValueError('нужен dataframe')\n",
    "        self.picked = self.hero_matrix.index\n",
    "        self.hero_matrix = self.hero_matrix.sum()\n",
    "        self.value_space = np.array([np.linspace(.5,.99)]*self.hero_matrix['sum'].shape[0]).T\n",
    "        self.defeats = self.hero_matrix['count'] - self.hero_matrix['sum']\n",
    "        self.wins = self.hero_matrix['sum']\n",
    "        \n",
    "    def get_scores(self):\n",
    "        \"\"\"\n",
    "        LogLike оценка победы команды  \\n\n",
    "        Чем выше число, тем лучше для выбранной команды  \\n\n",
    "\n",
    "        Можно использовать наоборот. \\n\n",
    "        Выбрав чужую команду смотреть наименьшее значение\n",
    "        \n",
    "        \"\"\"\n",
    "        hero_distr = sps.beta(self.wins+1,self.defeats+1)\n",
    "        log_like = np.log1p(hero_distr.sf(self.value_space)).sum(axis=0) / hero_distr.std()\n",
    "\n",
    "\n",
    "        return pd.Series(log_like,self.wins.index).drop(self.picked)\n",
    "        \n",
    "    def plot_top(self,n=10,**kwargs):\n",
    "        \"\"\"\n",
    "        plot top_n\n",
    "        \"\"\"\n",
    "        scores = self.get_scores().sort_values()\n",
    "        data = pd.concat([scores.iloc[:n],\n",
    "                            scores.iloc[-n:]]\n",
    "                        ).rename('win log like')\\\n",
    "                            .to_frame()\\\n",
    "                                .apply(lambda x: (x-x.mean()) / x.std())\n",
    "        return data.plot.bar(title=self.hero_matrix.name,**kwargs)"
   ]
  },
  {
   "cell_type": "code",
   "execution_count": 5,
   "metadata": {},
   "outputs": [],
   "source": [
    "pugna = TeamPick(hero_matrix.loc[['pugna']])\n",
    "antimage = TeamPick(hero_matrix.loc[['antimage']])"
   ]
  },
  {
   "cell_type": "code",
   "execution_count": 6,
   "metadata": {},
   "outputs": [],
   "source": [
    "team_a_picks = ['kunkka','ogre_magi','troll_warlord','skywrath_mage','pangolier']\n",
    "team_b_picks = ['death_prophet','bloodseeker','sand_king','bane','grimstroke']"
   ]
  },
  {
   "cell_type": "code",
   "execution_count": 7,
   "metadata": {},
   "outputs": [],
   "source": [
    "team_a = TeamPick(hero_matrix.loc[team_a_picks])\n",
    "team_b = TeamPick(hero_matrix.loc[team_b_picks])"
   ]
  },
  {
   "cell_type": "code",
   "execution_count": 8,
   "metadata": {},
   "outputs": [
    {
     "data": {
      "text/plain": [
       "lose_team\n",
       "death_prophet    236.334660\n",
       "bloodseeker      104.978332\n",
       "sand_king         93.729672\n",
       "bane             121.504131\n",
       "grimstroke       105.135258\n",
       "dtype: float64"
      ]
     },
     "execution_count": 8,
     "metadata": {},
     "output_type": "execute_result"
    }
   ],
   "source": [
    "team_a.get_scores().loc[team_b_picks]"
   ]
  },
  {
   "cell_type": "code",
   "execution_count": 9,
   "metadata": {},
   "outputs": [
    {
     "data": {
      "text/plain": [
       "lose_team\n",
       "kunkka           145.784792\n",
       "ogre_magi         40.906275\n",
       "troll_warlord    121.000731\n",
       "skywrath_mage     46.356513\n",
       "pangolier         55.907237\n",
       "dtype: float64"
      ]
     },
     "execution_count": 9,
     "metadata": {},
     "output_type": "execute_result"
    }
   ],
   "source": [
    "team_b.get_scores().loc[team_a_picks]"
   ]
  },
  {
   "cell_type": "code",
   "execution_count": 10,
   "metadata": {},
   "outputs": [
    {
     "data": {
      "text/plain": [
       "lose_team\n",
       "weaver            0.000032\n",
       "zuus              0.000043\n",
       "arc_warden        0.000301\n",
       "juggernaut        0.005178\n",
       "visage            0.012001\n",
       "                   ...    \n",
       "snapfire        247.330708\n",
       "batrider        260.019390\n",
       "ember_spirit    293.765371\n",
       "phoenix         298.407235\n",
       "storm_spirit    335.985365\n",
       "Length: 118, dtype: float64"
      ]
     },
     "execution_count": 10,
     "metadata": {},
     "output_type": "execute_result"
    }
   ],
   "source": [
    "team_b.get_scores().sort_values()"
   ]
  },
  {
   "cell_type": "code",
   "execution_count": 11,
   "metadata": {},
   "outputs": [
    {
     "data": {
      "text/plain": [
       "<AxesSubplot:xlabel='lose_team'>"
      ]
     },
     "execution_count": 11,
     "metadata": {},
     "output_type": "execute_result"
    },
    {
     "data": {
      "image/png": "[encoded data removed]",
      "text/plain": [
       "<Figure size 1440x504 with 1 Axes>"
      ]
     },
     "metadata": {},
     "output_type": "display_data"
    }
   ],
   "source": [
    "team_b.plot_top(figsize=(20,7))"
   ]
  }
 ],
 "metadata": {
  "kernelspec": {
   "display_name": "Python 3.8.10 64-bit",
   "language": "python",
   "name": "python3"
  },
  "language_info": {
   "codemirror_mode": {
    "name": "ipython",
    "version": 3
   },
   "file_extension": ".py",
   "mimetype": "text/x-python",
   "name": "python",
   "nbconvert_exporter": "python",
   "pygments_lexer": "ipython3",
   "version": "3.8.10"
  },
  "orig_nbformat": 4,
  "vscode": {
   "interpreter": {
    "hash": "916dbcbb3f70747c44a77c7bcd40155683ae19c65e1c03b4aa3499c5328201f1"
   }
  }
 },
 "nbformat": 4,
 "nbformat_minor": 2
}
